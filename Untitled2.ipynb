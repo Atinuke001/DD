{
 "cells": [
  {
   "cell_type": "code",
   "execution_count": null,
   "metadata": {},
   "outputs": [],
   "source": [
    "print(\"Akinyemi is my Hubby\")"
   ]
  },
  {
   "cell_type": "code",
   "execution_count": null,
   "metadata": {},
   "outputs": [],
   "source": [
    "if (5 > 2):\n",
    "    print('5 is greater than 2')\n",
    "else:\n",
    "    print('it is less')"
   ]
  },
  {
   "cell_type": "code",
   "execution_count": null,
   "metadata": {},
   "outputs": [],
   "source": [
    "a,b,c = (5,7,8)\n",
    "print(a)\n",
    "print(b)\n",
    "print(c)"
   ]
  },
  {
   "cell_type": "code",
   "execution_count": null,
   "metadata": {},
   "outputs": [],
   "source": [
    "y = 'Awesome'\n",
    "print('My husband is ' + y)"
   ]
  },
  {
   "cell_type": "code",
   "execution_count": null,
   "metadata": {},
   "outputs": [],
   "source": [
    "x = 'my husband'\n",
    "y = 'great'\n",
    "print ('my husband' +  y)"
   ]
  },
  {
   "cell_type": "code",
   "execution_count": null,
   "metadata": {},
   "outputs": [],
   "source": [
    "x,a,c = (4,5.0,4j)\n",
    "print(type(x))\n",
    "print(type(a))\n",
    "print(type(c))"
   ]
  },
  {
   "cell_type": "code",
   "execution_count": null,
   "metadata": {},
   "outputs": [],
   "source": [
    "x,b,c, = (2,2.9,3)\n",
    "a = float(x)\n",
    "d = complex(b)\n",
    "e = int(c)\n",
    "print(a,d,e)"
   ]
  },
  {
   "cell_type": "code",
   "execution_count": null,
   "metadata": {},
   "outputs": [],
   "source": [
    "import random\n",
    "a = random.randrange(1,10)\n",
    "print(a)\n",
    "\n"
   ]
  },
  {
   "cell_type": "code",
   "execution_count": null,
   "metadata": {},
   "outputs": [],
   "source": [
    "txt = 'akinyemi'\n",
    "print (txt.upper())"
   ]
  },
  {
   "cell_type": "code",
   "execution_count": null,
   "metadata": {},
   "outputs": [],
   "source": [
    "txt = 'Akinyemi,is,my,hubby'\n",
    "a = (txt.split(','))\n",
    "print(a)"
   ]
  },
  {
   "cell_type": "code",
   "execution_count": null,
   "metadata": {},
   "outputs": [],
   "source": [
    "txt = 'AKINYEMI'\n",
    "a = (txt.lower())\n",
    "print(a)"
   ]
  },
  {
   "cell_type": "code",
   "execution_count": null,
   "metadata": {},
   "outputs": [],
   "source": [
    "txt = 'AKINYEMI'\n",
    "a = (txt.replace('A','B'))\n",
    "print(a)"
   ]
  },
  {
   "cell_type": "code",
   "execution_count": null,
   "metadata": {},
   "outputs": [],
   "source": [
    "txt = \"The rain in Spain stays mainly in the plain \"\n",
    "#a = ('in' in txt)\n",
    "a = txt.count('in ')\n",
    "print(a)"
   ]
  },
  {
   "cell_type": "code",
   "execution_count": null,
   "metadata": {},
   "outputs": [],
   "source": [
    "age = 20\n",
    "dob = 1990\n",
    "myage = \"I was born in  {} and my age is {}.\"\n",
    "a = myage.format(dob,age)\n",
    "print(a)"
   ]
  },
  {
   "cell_type": "code",
   "execution_count": null,
   "metadata": {},
   "outputs": [],
   "source": [
    "a = [4,8,9,12,16]\n",
    "for x in range(len(a)):\n",
    "    print(x)"
   ]
  },
  {
   "cell_type": "code",
   "execution_count": null,
   "metadata": {},
   "outputs": [],
   "source": [
    "a = [4,8,9,12,16]\n",
    "for x in range(len(a)-3):\n",
    "    print(a[x])"
   ]
  },
  {
   "cell_type": "code",
   "execution_count": null,
   "metadata": {},
   "outputs": [],
   "source": [
    "a = [4,8,9,12,16]\n",
    "\n",
    "for x in range(len(a)):\n",
    "    if x == 2:\n",
    "        \n",
    "        print(a[x])"
   ]
  },
  {
   "cell_type": "code",
   "execution_count": null,
   "metadata": {},
   "outputs": [],
   "source": [
    "a = [4,8,9,12,16]\n",
    "b = [5,18,19,21,61]\n",
    "for x in a:\n",
    "    for y in b:\n",
    "        print(x,y)"
   ]
  },
  {
   "cell_type": "code",
   "execution_count": null,
   "metadata": {},
   "outputs": [],
   "source": [
    "def my_function(*kids):\n",
    "    \n",
    "    return kids\n",
    "my_function('Lara','iyanu')"
   ]
  },
  {
   "cell_type": "code",
   "execution_count": null,
   "metadata": {},
   "outputs": [],
   "source": [
    "fruits = [[\"apple\", \"banana\", \"cherry\"],[\"apple1\", \"banana1\", \"cherry1\"]]\n",
    "listq = [\"appley\", \"bananya\", \"cherryyyy\",'papaya']\n",
    "d=0\n",
    "nat = []\n",
    "for x in fruits:\n",
    "    #d+=1\n",
    "    y = x[2]\n",
    "    nat.append(y) \n",
    "print(nat) \n",
    "    #print(listq[d-1])\n",
    "    \n",
    "    \n",
    " \n",
    "    "
   ]
  },
  {
   "cell_type": "code",
   "execution_count": null,
   "metadata": {},
   "outputs": [],
   "source": [
    "fruits = [\"apple\", \"banana\", \"cherry\"]\n",
    "listq = [\"appley\", \"bananya\", \"cherryyyy\",'papaya']\n",
    "\n",
    "d=[]\n",
    "for x in range(max(len(listq),len(fruits))):\n",
    "    d+=1\n",
    "    if x < 3:\n",
    "        print(listq[x])    \n",
    "        print(fruits[x]) \n",
    "    elif x == 3:\n",
    "        print(listq[x])    \n",
    "        print('no fruits')     "
   ]
  },
  {
   "cell_type": "code",
   "execution_count": null,
   "metadata": {},
   "outputs": [],
   "source": [
    "def tinuke():\n",
    "    \n",
    "    fruits = [\"apple\", \"banana\", \"cherry\"]\n",
    "    listq = [\"appley\", \"bananya\", \"cherryyyy\",'papaya']\n",
    "\n",
    "    d =[]\n",
    "    s = []\n",
    "    for x in range(max(len(listq),len(fruits))):\n",
    "\n",
    "        if x < 3:\n",
    "            d.append(listq[x])   \n",
    "            s.append(fruits[x])\n",
    "        elif x == 3:\n",
    "            d.append(listq[x]) \n",
    "            s.append('no fruits')\n",
    "            \n",
    "    return d,s\n",
    "tinuke()"
   ]
  },
  {
   "cell_type": "code",
   "execution_count": null,
   "metadata": {
    "scrolled": false
   },
   "outputs": [],
   "source": [
    "#fruits = [\"apple\", \"banana\", \"cherry\"]\n",
    "#listq = [\"appley\", \"bananya\", \"cherryyyy\",'papaya']\n",
    "def tinukes(listq1,fruits1):\n",
    "    \n",
    "   \n",
    "\n",
    "    d =[]\n",
    "    s = []\n",
    "    for x in range(max(len(listq1),len(fruits1))):\n",
    "\n",
    "        if x < 3:\n",
    "            d.append(listq1[x])   \n",
    "            s.append(fruits1[x])\n",
    "        elif x == 3:\n",
    "            d.append(listq[x]) \n",
    "            s.append('no fruits')\n",
    "            \n",
    "    return d,s\n"
   ]
  },
  {
   "cell_type": "code",
   "execution_count": null,
   "metadata": {},
   "outputs": [],
   "source": [
    "tinukes(listq,fruits)"
   ]
  },
  {
   "cell_type": "code",
   "execution_count": null,
   "metadata": {},
   "outputs": [],
   "source": [
    "def tinukes(listq1,fruits1=fruits):\n",
    "    \n",
    "   \n",
    "\n",
    "    d =[]\n",
    "    s = []\n",
    "    for x in range(max(len(listq1),len(fruits1))):\n",
    "\n",
    "        if x < 3:\n",
    "            d.append(listq1[x])   \n",
    "            s.append(fruits1[x])\n",
    "        elif x == 3:\n",
    "            d.append(listq[x]) \n",
    "            s.append('no fruits')\n",
    "            \n",
    "    return d,s\n"
   ]
  },
  {
   "cell_type": "code",
   "execution_count": null,
   "metadata": {},
   "outputs": [],
   "source": [
    "tinukes(listq,listq)"
   ]
  },
  {
   "cell_type": "code",
   "execution_count": null,
   "metadata": {},
   "outputs": [],
   "source": [
    "myfamilyr = {\n",
    "  \"child1\" : {\n",
    "    \"name\" : \"Emil\",\n",
    "    \"year\" : 2004\n",
    "  },\n",
    "  \"child2\" : {\n",
    "    \"name\" : \"Tobias\",\n",
    "    \"year\" : 2007\n",
    "  },\n",
    "  \"child3\" : {\n",
    "    \"name\" : \"Linus\",\n",
    "    \"year\" : 2011\n",
    "  }\n",
    "}\n",
    "\n",
    "for x in myfamily:\n",
    "    for y in myfamily[x]:\n",
    "        if y == 'year':\n",
    "            print(myfamily[x][y])\n",
    "    "
   ]
  },
  {
   "cell_type": "code",
   "execution_count": null,
   "metadata": {},
   "outputs": [],
   "source": [
    "def my_func(myfamily):\n",
    "    nat = []\n",
    "    for x in myfamily:\n",
    "        for y in myfamily[x].values():\n",
    "            \n",
    "            if type(y) == int :\n",
    "                nat.append(y)\n",
    "                \n",
    "    return nat"
   ]
  },
  {
   "cell_type": "code",
   "execution_count": null,
   "metadata": {},
   "outputs": [],
   "source": [
    "my_func(myfamilyr)"
   ]
  },
  {
   "cell_type": "code",
   "execution_count": null,
   "metadata": {},
   "outputs": [],
   "source": [
    "date_data = [\"1912\", \"1929\", \"1913-1923\",\n",
    "             \"(1951)\", \"1994\", \"1934\",\n",
    "             \"c. 1915\", \"1995\", \"c. 1912\",\n",
    "             \"(1988)\", \"2002\", \"1957-1959\",\n",
    "             \"c. 1955.\", \"c. 1970's\", \n",
    "             \"C. 1990-1999\"]\n",
    "def my_func(date):\n",
    "    copied_date = []\n",
    "    for x in date_data:\n",
    "        \n",
    "        copied_date.append(x)\n",
    "    return copied_date"
   ]
  },
  {
   "cell_type": "code",
   "execution_count": null,
   "metadata": {},
   "outputs": [],
   "source": [
    "my_func(date_data)"
   ]
  },
  {
   "cell_type": "code",
   "execution_count": null,
   "metadata": {},
   "outputs": [],
   "source": [
    "def cleaning(date):\n",
    "    nat = []\n",
    "    for x in date_data:\n",
    "        a = x\n",
    "        a = a.replace(\"(\",\"\")\n",
    "        a = a.replace(\")\",\"\")\n",
    "        nat.append(a)\n",
    "    return nat"
   ]
  },
  {
   "cell_type": "code",
   "execution_count": null,
   "metadata": {},
   "outputs": [],
   "source": [
    "char = [\"(\",\")\",\"c.\",\"C.\",\"s\",\"'\",\".\",\" \"]\n",
    "def clean(date):\n",
    "    data = []\n",
    "    for x in date_data:\n",
    "        a = x\n",
    "       \n",
    "        for y in char:\n",
    "            a = a.replace(y,\"\")\n",
    "        #a = a.split(\"-\")\n",
    "        data.append(a)\n",
    "    return data"
   ]
  },
  {
   "cell_type": "code",
   "execution_count": null,
   "metadata": {},
   "outputs": [],
   "source": [
    "def charcleans(dat):\n",
    "    for y in char:\n",
    "        dat = dat.replace(y,\"\")\n",
    "    return dat\n",
    "\n",
    "\n",
    "def cleansing(date):\n",
    "    mamo = []\n",
    "    for x in date_data:\n",
    "        a = x\n",
    "        b = charcleans(a)\n",
    "        mamo.append(b)\n",
    "    return mamo\n",
    "    "
   ]
  },
  {
   "cell_type": "code",
   "execution_count": null,
   "metadata": {},
   "outputs": [],
   "source": [
    "def charcleans(dat):\n",
    "    for y in char:\n",
    "        dat = dat.replace(y,\"\")\n",
    "    return dat\n",
    "\n",
    "\n",
    "def cleansing(date):\n",
    "    #mamo = []\n",
    "    for x in date_data:\n",
    "        a = x\n",
    "        b = charcleans(a)\n",
    "        #mamo.append(b)\n",
    "        pd.Series(b)\n",
    "    return b\n",
    "cleansing(date_data)"
   ]
  },
  {
   "cell_type": "code",
   "execution_count": null,
   "metadata": {},
   "outputs": [],
   "source": [
    "a = clean(date_data)\n",
    "b = pd.Series(a)\n",
    "b"
   ]
  },
  {
   "cell_type": "code",
   "execution_count": null,
   "metadata": {},
   "outputs": [],
   "source": [
    "cleansing(date_data)"
   ]
  },
  {
   "cell_type": "code",
   "execution_count": null,
   "metadata": {},
   "outputs": [],
   "source": [
    "charcleans('(1951)')"
   ]
  },
  {
   "cell_type": "code",
   "execution_count": null,
   "metadata": {},
   "outputs": [],
   "source": [
    "import pandas as pd"
   ]
  },
  {
   "cell_type": "code",
   "execution_count": null,
   "metadata": {},
   "outputs": [],
   "source": [
    "df = pd.read_csv('Restaurant.csv')\n",
    "df.head()"
   ]
  },
  {
   "cell_type": "code",
   "execution_count": null,
   "metadata": {},
   "outputs": [],
   "source": [
    "df['Gender'].astype('category')"
   ]
  },
  {
   "cell_type": "code",
   "execution_count": null,
   "metadata": {},
   "outputs": [],
   "source": [
    "df.info()"
   ]
  },
  {
   "cell_type": "code",
   "execution_count": null,
   "metadata": {},
   "outputs": [],
   "source": [
    "df.columns =[column_name.replace(' ','_') for column_name in df.columns]\n",
    "#df.columns =[column_name.upper() for column_name in df.columns]\n",
    "#df.columns =[column_name.title() for column_name in df.columns]\n",
    "df.columns\n"
   ]
  },
  {
   "cell_type": "code",
   "execution_count": null,
   "metadata": {},
   "outputs": [],
   "source": [
    "a = df['First_Name']\n"
   ]
  },
  {
   "cell_type": "code",
   "execution_count": null,
   "metadata": {},
   "outputs": [],
   "source": [
    "mask = df['Last Name'] == 'Perkins'\n",
    "df[mask]\n",
    "company = df['Company']\n",
    "df['Company'][765:]"
   ]
  },
  {
   "cell_type": "code",
   "execution_count": null,
   "metadata": {},
   "outputs": [],
   "source": [
    "for x in range(len(df)):\n",
    "    actor=df['First Name'][x]\n",
    "    buget=df['Last Name'][x]\n",
    "    if actor== 'Joseph' and buget=='Perkins':\n",
    "        print('i love yemi')\n",
    "        "
   ]
  },
  {
   "cell_type": "code",
   "execution_count": null,
   "metadata": {},
   "outputs": [],
   "source": [
    "for x in df:\n",
    "    if x=='First Name':\n",
    "        actor=df[x]\n",
    "        buget=df[x]\n",
    "        print(x)"
   ]
  },
  {
   "cell_type": "code",
   "execution_count": null,
   "metadata": {},
   "outputs": [],
   "source": [
    "selection = df['Last Name']\n",
    "print(selection)"
   ]
  },
  {
   "cell_type": "code",
   "execution_count": null,
   "metadata": {},
   "outputs": [],
   "source": [
    "def clean(Name):\n",
    "    nat = []\n",
    "    for x in selection:\n",
    "        if x == 'Morrison':\n",
    "            nat.append(x)\n",
    "    return len(nat)"
   ]
  },
  {
   "cell_type": "code",
   "execution_count": null,
   "metadata": {},
   "outputs": [],
   "source": [
    "clean(selection)"
   ]
  },
  {
   "cell_type": "code",
   "execution_count": null,
   "metadata": {},
   "outputs": [],
   "source": [
    "prices = [2.66,78.0,34.8]\n",
    "d = pd.Series(prices)\n",
    "d\n",
    "import shutil, os\n",
    "files = ['foods.csv', 'nba.csv']\n",
    "dest_folder = \"C:/drop\"\n",
    "for f in files:\n",
    "    shutil.move(f, 'dest_folder')\n",
    "    \n",
    " "
   ]
  },
  {
   "cell_type": "code",
   "execution_count": null,
   "metadata": {},
   "outputs": [],
   "source": [
    "import shutil\n",
    "f = open(\"C:\\\\Users\\\\Atinuke Akinsanya\\\\Desktop\\\\Data Science\\\\Sample\\\\foods.csv\")\n",
    "print(f.read())"
   ]
  },
  {
   "cell_type": "code",
   "execution_count": null,
   "metadata": {},
   "outputs": [],
   "source": [
    " import os,shutil\n",
    "\n",
    "current_path = r\"C:\\Users\\Atinuke Akinsanya\\Desktop\\Data Science\\Sample\" ## source path\n",
    "\n",
    "new_path = r\"C:\\drop\" ## destination path\n",
    "\n",
    "os.chdir(current_path)\n",
    "\n",
    "for files in os.listdir():\n",
    "    \n",
    "    os.rename(files, new_path)\n",
    "    shutil.move(files, new_path)"
   ]
  },
  {
   "cell_type": "code",
   "execution_count": 13,
   "metadata": {},
   "outputs": [],
   "source": [
    "import os, shutil\n",
    "path = r'C:\\Users\\Atinuke Akinsanya\\Desktop\\Data Science\\Sample'\n",
    "moveto = r\"C:\\drop\"\n",
    "os.chdir(path)\n",
    "for i in os.listdir():\n",
    "    #os.rename(i, moveto)\n",
    "    shutil.move(i,moveto)\n",
    "    \n",
    " \n",
    "\n"
   ]
  },
  {
   "cell_type": "code",
   "execution_count": null,
   "metadata": {},
   "outputs": [],
   "source": []
  }
 ],
 "metadata": {
  "kernelspec": {
   "display_name": "Python 3",
   "language": "python",
   "name": "python3"
  },
  "language_info": {
   "codemirror_mode": {
    "name": "ipython",
    "version": 3
   },
   "file_extension": ".py",
   "mimetype": "text/x-python",
   "name": "python",
   "nbconvert_exporter": "python",
   "pygments_lexer": "ipython3",
   "version": "3.7.4"
  }
 },
 "nbformat": 4,
 "nbformat_minor": 2
}
